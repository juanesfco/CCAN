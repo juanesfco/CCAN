{
 "cells": [
  {
   "cell_type": "code",
   "execution_count": 4,
   "metadata": {},
   "outputs": [
    {
     "name": "stderr",
     "output_type": "stream",
     "text": [
      "/opt/homebrew/lib/python3.12/site-packages/urllib3/connectionpool.py:1103: InsecureRequestWarning: Unverified HTTPS request is being made to host 'indicadores.pr'. Adding certificate verification is strongly advised. See: https://urllib3.readthedocs.io/en/latest/advanced-usage.html#tls-warnings\n",
      "  warnings.warn(\n",
      "/var/folders/t8/1dshmvf55gn478cb8nbc9x880000gn/T/ipykernel_31234/2518243002.py:11: SettingWithCopyWarning: \n",
      "A value is trying to be set on a copy of a slice from a DataFrame.\n",
      "Try using .loc[row_indexer,col_indexer] = value instead\n",
      "\n",
      "See the caveats in the documentation: https://pandas.pydata.org/pandas-docs/stable/user_guide/indexing.html#returning-a-view-versus-a-copy\n",
      "  df_aee1['Renewable Energy Net Generation (mkWh)'] = df_aee1.iloc[:,2:5].sum(axis=1)\n"
     ]
    }
   ],
   "source": [
    "import requests\n",
    "import pandas as pd\n",
    "import io\n",
    "\n",
    "url = 'https://indicadores.pr/dataset/49746389-12ce-48f6-b578-65f6dc46f53f/resource/8025f821-45c1-4c6a-b2f4-8d641cc03df1/download/aee-meta-ultimo.csv'\n",
    "s=requests.get(url,verify=False).content\n",
    "df_aee=pd.read_csv(io.StringIO(s.decode('latin-1')), thousands=',')\n",
    "\n",
    "df_aee1 = df_aee[['Mes','      Generación Neta  (mkWh)     ','Generación Neta con Hidroeléctrica (mkWh)',\n",
    "    'Generación con energía comprada-Fotovoltaica (mkWh)','Generación con energía comprada-Eólica (mkWh)']]\n",
    "df_aee1['Renewable Energy Net Generation (mkWh)'] = df_aee1.iloc[:,2:5].sum(axis=1)\n",
    "\n",
    "month = df_aee1['Mes'].values\n",
    "netGeneration = df_aee1['      Generación Neta  (mkWh)     '].values\n",
    "renewableNetGeneration = df_aee1['Renewable Energy Net Generation (mkWh)'].values\n",
    "\n",
    "df_aee2 = pd.DataFrame({'month':month,'ind_11':renewableNetGeneration/netGeneration*100})\n",
    "df_aee2['month'] = pd.to_datetime(df_aee2['month'])\n",
    "\n",
    "df_aee2.to_csv('data/df_aee.csv',index=False)"
   ]
  },
  {
   "cell_type": "code",
   "execution_count": 10,
   "metadata": {},
   "outputs": [
    {
     "name": "stdout",
     "output_type": "stream",
     "text": [
      "2024-04-16 19:25:55.376850+00:00\n"
     ]
    }
   ],
   "source": [
    "import os\n",
    "from datetime import datetime, timezone\n",
    "\n",
    "print(datetime.fromtimestamp(os.stat('data/df_aee.csv').st_mtime, tz=timezone.utc))"
   ]
  },
  {
   "cell_type": "code",
   "execution_count": null,
   "metadata": {},
   "outputs": [],
   "source": []
  }
 ],
 "metadata": {
  "kernelspec": {
   "display_name": "Python 3",
   "language": "python",
   "name": "python3"
  },
  "language_info": {
   "codemirror_mode": {
    "name": "ipython",
    "version": 3
   },
   "file_extension": ".py",
   "mimetype": "text/x-python",
   "name": "python",
   "nbconvert_exporter": "python",
   "pygments_lexer": "ipython3",
   "version": "3.12.2"
  }
 },
 "nbformat": 4,
 "nbformat_minor": 2
}
